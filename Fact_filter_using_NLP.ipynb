{
 "cells": [
  {
   "cell_type": "markdown",
   "id": "8f0aebf3",
   "metadata": {},
   "source": [
    "Title for the Project:\n",
    "\n",
    "# FACT FILTER USING NLP"
   ]
  },
  {
   "cell_type": "markdown",
   "id": "333f4b33",
   "metadata": {},
   "source": [
    "Submitted by Md Sk Sahidulla (231160005)"
   ]
  },
  {
   "cell_type": "code",
   "execution_count": 39,
   "id": "29f02acc",
   "metadata": {},
   "outputs": [],
   "source": [
    "import pandas as pd\n",
    "import numpy as np\n",
    "import re\n",
    "import matplotlib.pyplot as plt"
   ]
  },
  {
   "cell_type": "markdown",
   "id": "aed51000",
   "metadata": {},
   "source": [
    "# Data Loading and Exploring"
   ]
  },
  {
   "cell_type": "code",
   "execution_count": 2,
   "id": "71a88b6a",
   "metadata": {},
   "outputs": [
    {
     "name": "stdout",
     "output_type": "stream",
     "text": [
      "shape of True dataset: (21417, 4)\n"
     ]
    },
    {
     "data": {
      "text/html": [
       "<div>\n",
       "<style scoped>\n",
       "    .dataframe tbody tr th:only-of-type {\n",
       "        vertical-align: middle;\n",
       "    }\n",
       "\n",
       "    .dataframe tbody tr th {\n",
       "        vertical-align: top;\n",
       "    }\n",
       "\n",
       "    .dataframe thead th {\n",
       "        text-align: right;\n",
       "    }\n",
       "</style>\n",
       "<table border=\"1\" class=\"dataframe\">\n",
       "  <thead>\n",
       "    <tr style=\"text-align: right;\">\n",
       "      <th></th>\n",
       "      <th>title</th>\n",
       "      <th>text</th>\n",
       "      <th>subject</th>\n",
       "      <th>date</th>\n",
       "    </tr>\n",
       "  </thead>\n",
       "  <tbody>\n",
       "    <tr>\n",
       "      <th>0</th>\n",
       "      <td>As U.S. budget fight looms, Republicans flip t...</td>\n",
       "      <td>WASHINGTON (Reuters) - The head of a conservat...</td>\n",
       "      <td>politicsNews</td>\n",
       "      <td>December 31, 2017</td>\n",
       "    </tr>\n",
       "    <tr>\n",
       "      <th>1</th>\n",
       "      <td>U.S. military to accept transgender recruits o...</td>\n",
       "      <td>WASHINGTON (Reuters) - Transgender people will...</td>\n",
       "      <td>politicsNews</td>\n",
       "      <td>December 29, 2017</td>\n",
       "    </tr>\n",
       "    <tr>\n",
       "      <th>2</th>\n",
       "      <td>Senior U.S. Republican senator: 'Let Mr. Muell...</td>\n",
       "      <td>WASHINGTON (Reuters) - The special counsel inv...</td>\n",
       "      <td>politicsNews</td>\n",
       "      <td>December 31, 2017</td>\n",
       "    </tr>\n",
       "    <tr>\n",
       "      <th>3</th>\n",
       "      <td>FBI Russia probe helped by Australian diplomat...</td>\n",
       "      <td>WASHINGTON (Reuters) - Trump campaign adviser ...</td>\n",
       "      <td>politicsNews</td>\n",
       "      <td>December 30, 2017</td>\n",
       "    </tr>\n",
       "    <tr>\n",
       "      <th>4</th>\n",
       "      <td>Trump wants Postal Service to charge 'much mor...</td>\n",
       "      <td>SEATTLE/WASHINGTON (Reuters) - President Donal...</td>\n",
       "      <td>politicsNews</td>\n",
       "      <td>December 29, 2017</td>\n",
       "    </tr>\n",
       "  </tbody>\n",
       "</table>\n",
       "</div>"
      ],
      "text/plain": [
       "                                               title  \\\n",
       "0  As U.S. budget fight looms, Republicans flip t...   \n",
       "1  U.S. military to accept transgender recruits o...   \n",
       "2  Senior U.S. Republican senator: 'Let Mr. Muell...   \n",
       "3  FBI Russia probe helped by Australian diplomat...   \n",
       "4  Trump wants Postal Service to charge 'much mor...   \n",
       "\n",
       "                                                text       subject  \\\n",
       "0  WASHINGTON (Reuters) - The head of a conservat...  politicsNews   \n",
       "1  WASHINGTON (Reuters) - Transgender people will...  politicsNews   \n",
       "2  WASHINGTON (Reuters) - The special counsel inv...  politicsNews   \n",
       "3  WASHINGTON (Reuters) - Trump campaign adviser ...  politicsNews   \n",
       "4  SEATTLE/WASHINGTON (Reuters) - President Donal...  politicsNews   \n",
       "\n",
       "                 date  \n",
       "0  December 31, 2017   \n",
       "1  December 29, 2017   \n",
       "2  December 31, 2017   \n",
       "3  December 30, 2017   \n",
       "4  December 29, 2017   "
      ]
     },
     "execution_count": 2,
     "metadata": {},
     "output_type": "execute_result"
    }
   ],
   "source": [
    "df_true=pd.read_csv(\"True.csv\")                  #importing true dataset\n",
    "print(f\"shape of True dataset: {df_true.shape}\")\n",
    "df_true.head()"
   ]
  },
  {
   "cell_type": "code",
   "execution_count": 3,
   "id": "db3dfe0b",
   "metadata": {},
   "outputs": [
    {
     "data": {
      "text/html": [
       "<div>\n",
       "<style scoped>\n",
       "    .dataframe tbody tr th:only-of-type {\n",
       "        vertical-align: middle;\n",
       "    }\n",
       "\n",
       "    .dataframe tbody tr th {\n",
       "        vertical-align: top;\n",
       "    }\n",
       "\n",
       "    .dataframe thead th {\n",
       "        text-align: right;\n",
       "    }\n",
       "</style>\n",
       "<table border=\"1\" class=\"dataframe\">\n",
       "  <thead>\n",
       "    <tr style=\"text-align: right;\">\n",
       "      <th></th>\n",
       "      <th>title</th>\n",
       "      <th>text</th>\n",
       "      <th>subject</th>\n",
       "      <th>date</th>\n",
       "      <th>news_type</th>\n",
       "    </tr>\n",
       "  </thead>\n",
       "  <tbody>\n",
       "    <tr>\n",
       "      <th>0</th>\n",
       "      <td>As U.S. budget fight looms, Republicans flip t...</td>\n",
       "      <td>WASHINGTON (Reuters) - The head of a conservat...</td>\n",
       "      <td>politicsNews</td>\n",
       "      <td>December 31, 2017</td>\n",
       "      <td>true</td>\n",
       "    </tr>\n",
       "    <tr>\n",
       "      <th>1</th>\n",
       "      <td>U.S. military to accept transgender recruits o...</td>\n",
       "      <td>WASHINGTON (Reuters) - Transgender people will...</td>\n",
       "      <td>politicsNews</td>\n",
       "      <td>December 29, 2017</td>\n",
       "      <td>true</td>\n",
       "    </tr>\n",
       "    <tr>\n",
       "      <th>2</th>\n",
       "      <td>Senior U.S. Republican senator: 'Let Mr. Muell...</td>\n",
       "      <td>WASHINGTON (Reuters) - The special counsel inv...</td>\n",
       "      <td>politicsNews</td>\n",
       "      <td>December 31, 2017</td>\n",
       "      <td>true</td>\n",
       "    </tr>\n",
       "    <tr>\n",
       "      <th>3</th>\n",
       "      <td>FBI Russia probe helped by Australian diplomat...</td>\n",
       "      <td>WASHINGTON (Reuters) - Trump campaign adviser ...</td>\n",
       "      <td>politicsNews</td>\n",
       "      <td>December 30, 2017</td>\n",
       "      <td>true</td>\n",
       "    </tr>\n",
       "    <tr>\n",
       "      <th>4</th>\n",
       "      <td>Trump wants Postal Service to charge 'much mor...</td>\n",
       "      <td>SEATTLE/WASHINGTON (Reuters) - President Donal...</td>\n",
       "      <td>politicsNews</td>\n",
       "      <td>December 29, 2017</td>\n",
       "      <td>true</td>\n",
       "    </tr>\n",
       "  </tbody>\n",
       "</table>\n",
       "</div>"
      ],
      "text/plain": [
       "                                               title  \\\n",
       "0  As U.S. budget fight looms, Republicans flip t...   \n",
       "1  U.S. military to accept transgender recruits o...   \n",
       "2  Senior U.S. Republican senator: 'Let Mr. Muell...   \n",
       "3  FBI Russia probe helped by Australian diplomat...   \n",
       "4  Trump wants Postal Service to charge 'much mor...   \n",
       "\n",
       "                                                text       subject  \\\n",
       "0  WASHINGTON (Reuters) - The head of a conservat...  politicsNews   \n",
       "1  WASHINGTON (Reuters) - Transgender people will...  politicsNews   \n",
       "2  WASHINGTON (Reuters) - The special counsel inv...  politicsNews   \n",
       "3  WASHINGTON (Reuters) - Trump campaign adviser ...  politicsNews   \n",
       "4  SEATTLE/WASHINGTON (Reuters) - President Donal...  politicsNews   \n",
       "\n",
       "                 date news_type  \n",
       "0  December 31, 2017       true  \n",
       "1  December 29, 2017       true  \n",
       "2  December 31, 2017       true  \n",
       "3  December 30, 2017       true  \n",
       "4  December 29, 2017       true  "
      ]
     },
     "execution_count": 3,
     "metadata": {},
     "output_type": "execute_result"
    }
   ],
   "source": [
    "df_true[\"news_type\"]=\"true\"  #creating new column and labelling the data set as \"true\"\n",
    "df_true.head()"
   ]
  },
  {
   "cell_type": "code",
   "execution_count": 4,
   "id": "a731f151",
   "metadata": {},
   "outputs": [
    {
     "name": "stdout",
     "output_type": "stream",
     "text": [
      "shape of fake dataset: (23481, 4)\n"
     ]
    },
    {
     "data": {
      "text/html": [
       "<div>\n",
       "<style scoped>\n",
       "    .dataframe tbody tr th:only-of-type {\n",
       "        vertical-align: middle;\n",
       "    }\n",
       "\n",
       "    .dataframe tbody tr th {\n",
       "        vertical-align: top;\n",
       "    }\n",
       "\n",
       "    .dataframe thead th {\n",
       "        text-align: right;\n",
       "    }\n",
       "</style>\n",
       "<table border=\"1\" class=\"dataframe\">\n",
       "  <thead>\n",
       "    <tr style=\"text-align: right;\">\n",
       "      <th></th>\n",
       "      <th>title</th>\n",
       "      <th>text</th>\n",
       "      <th>subject</th>\n",
       "      <th>date</th>\n",
       "    </tr>\n",
       "  </thead>\n",
       "  <tbody>\n",
       "    <tr>\n",
       "      <th>0</th>\n",
       "      <td>Donald Trump Sends Out Embarrassing New Year’...</td>\n",
       "      <td>Donald Trump just couldn t wish all Americans ...</td>\n",
       "      <td>News</td>\n",
       "      <td>December 31, 2017</td>\n",
       "    </tr>\n",
       "    <tr>\n",
       "      <th>1</th>\n",
       "      <td>Drunk Bragging Trump Staffer Started Russian ...</td>\n",
       "      <td>House Intelligence Committee Chairman Devin Nu...</td>\n",
       "      <td>News</td>\n",
       "      <td>December 31, 2017</td>\n",
       "    </tr>\n",
       "    <tr>\n",
       "      <th>2</th>\n",
       "      <td>Sheriff David Clarke Becomes An Internet Joke...</td>\n",
       "      <td>On Friday, it was revealed that former Milwauk...</td>\n",
       "      <td>News</td>\n",
       "      <td>December 30, 2017</td>\n",
       "    </tr>\n",
       "    <tr>\n",
       "      <th>3</th>\n",
       "      <td>Trump Is So Obsessed He Even Has Obama’s Name...</td>\n",
       "      <td>On Christmas day, Donald Trump announced that ...</td>\n",
       "      <td>News</td>\n",
       "      <td>December 29, 2017</td>\n",
       "    </tr>\n",
       "    <tr>\n",
       "      <th>4</th>\n",
       "      <td>Pope Francis Just Called Out Donald Trump Dur...</td>\n",
       "      <td>Pope Francis used his annual Christmas Day mes...</td>\n",
       "      <td>News</td>\n",
       "      <td>December 25, 2017</td>\n",
       "    </tr>\n",
       "  </tbody>\n",
       "</table>\n",
       "</div>"
      ],
      "text/plain": [
       "                                               title  \\\n",
       "0   Donald Trump Sends Out Embarrassing New Year’...   \n",
       "1   Drunk Bragging Trump Staffer Started Russian ...   \n",
       "2   Sheriff David Clarke Becomes An Internet Joke...   \n",
       "3   Trump Is So Obsessed He Even Has Obama’s Name...   \n",
       "4   Pope Francis Just Called Out Donald Trump Dur...   \n",
       "\n",
       "                                                text subject  \\\n",
       "0  Donald Trump just couldn t wish all Americans ...    News   \n",
       "1  House Intelligence Committee Chairman Devin Nu...    News   \n",
       "2  On Friday, it was revealed that former Milwauk...    News   \n",
       "3  On Christmas day, Donald Trump announced that ...    News   \n",
       "4  Pope Francis used his annual Christmas Day mes...    News   \n",
       "\n",
       "                date  \n",
       "0  December 31, 2017  \n",
       "1  December 31, 2017  \n",
       "2  December 30, 2017  \n",
       "3  December 29, 2017  \n",
       "4  December 25, 2017  "
      ]
     },
     "execution_count": 4,
     "metadata": {},
     "output_type": "execute_result"
    }
   ],
   "source": [
    "df_fake=pd.read_csv(\"Fake.csv\")                 #importing fake dataset\n",
    "print(f\"shape of fake dataset: {df_fake.shape}\")\n",
    "df_fake.head()"
   ]
  },
  {
   "cell_type": "code",
   "execution_count": 5,
   "id": "c0dcd077",
   "metadata": {},
   "outputs": [
    {
     "data": {
      "text/html": [
       "<div>\n",
       "<style scoped>\n",
       "    .dataframe tbody tr th:only-of-type {\n",
       "        vertical-align: middle;\n",
       "    }\n",
       "\n",
       "    .dataframe tbody tr th {\n",
       "        vertical-align: top;\n",
       "    }\n",
       "\n",
       "    .dataframe thead th {\n",
       "        text-align: right;\n",
       "    }\n",
       "</style>\n",
       "<table border=\"1\" class=\"dataframe\">\n",
       "  <thead>\n",
       "    <tr style=\"text-align: right;\">\n",
       "      <th></th>\n",
       "      <th>title</th>\n",
       "      <th>text</th>\n",
       "      <th>subject</th>\n",
       "      <th>date</th>\n",
       "      <th>news_type</th>\n",
       "    </tr>\n",
       "  </thead>\n",
       "  <tbody>\n",
       "    <tr>\n",
       "      <th>0</th>\n",
       "      <td>Donald Trump Sends Out Embarrassing New Year’...</td>\n",
       "      <td>Donald Trump just couldn t wish all Americans ...</td>\n",
       "      <td>News</td>\n",
       "      <td>December 31, 2017</td>\n",
       "      <td>fake</td>\n",
       "    </tr>\n",
       "    <tr>\n",
       "      <th>1</th>\n",
       "      <td>Drunk Bragging Trump Staffer Started Russian ...</td>\n",
       "      <td>House Intelligence Committee Chairman Devin Nu...</td>\n",
       "      <td>News</td>\n",
       "      <td>December 31, 2017</td>\n",
       "      <td>fake</td>\n",
       "    </tr>\n",
       "    <tr>\n",
       "      <th>2</th>\n",
       "      <td>Sheriff David Clarke Becomes An Internet Joke...</td>\n",
       "      <td>On Friday, it was revealed that former Milwauk...</td>\n",
       "      <td>News</td>\n",
       "      <td>December 30, 2017</td>\n",
       "      <td>fake</td>\n",
       "    </tr>\n",
       "    <tr>\n",
       "      <th>3</th>\n",
       "      <td>Trump Is So Obsessed He Even Has Obama’s Name...</td>\n",
       "      <td>On Christmas day, Donald Trump announced that ...</td>\n",
       "      <td>News</td>\n",
       "      <td>December 29, 2017</td>\n",
       "      <td>fake</td>\n",
       "    </tr>\n",
       "    <tr>\n",
       "      <th>4</th>\n",
       "      <td>Pope Francis Just Called Out Donald Trump Dur...</td>\n",
       "      <td>Pope Francis used his annual Christmas Day mes...</td>\n",
       "      <td>News</td>\n",
       "      <td>December 25, 2017</td>\n",
       "      <td>fake</td>\n",
       "    </tr>\n",
       "  </tbody>\n",
       "</table>\n",
       "</div>"
      ],
      "text/plain": [
       "                                               title  \\\n",
       "0   Donald Trump Sends Out Embarrassing New Year’...   \n",
       "1   Drunk Bragging Trump Staffer Started Russian ...   \n",
       "2   Sheriff David Clarke Becomes An Internet Joke...   \n",
       "3   Trump Is So Obsessed He Even Has Obama’s Name...   \n",
       "4   Pope Francis Just Called Out Donald Trump Dur...   \n",
       "\n",
       "                                                text subject  \\\n",
       "0  Donald Trump just couldn t wish all Americans ...    News   \n",
       "1  House Intelligence Committee Chairman Devin Nu...    News   \n",
       "2  On Friday, it was revealed that former Milwauk...    News   \n",
       "3  On Christmas day, Donald Trump announced that ...    News   \n",
       "4  Pope Francis used his annual Christmas Day mes...    News   \n",
       "\n",
       "                date news_type  \n",
       "0  December 31, 2017      fake  \n",
       "1  December 31, 2017      fake  \n",
       "2  December 30, 2017      fake  \n",
       "3  December 29, 2017      fake  \n",
       "4  December 25, 2017      fake  "
      ]
     },
     "execution_count": 5,
     "metadata": {},
     "output_type": "execute_result"
    }
   ],
   "source": [
    "df_fake[\"news_type\"]=\"fake\"   #creating new column and labelling the data set as \"fake\"\n",
    "df_fake.head()"
   ]
  },
  {
   "cell_type": "code",
   "execution_count": 6,
   "id": "744e9e5c",
   "metadata": {},
   "outputs": [
    {
     "name": "stdout",
     "output_type": "stream",
     "text": [
      "shape of merged dataset: (44898, 5)\n"
     ]
    },
    {
     "data": {
      "text/html": [
       "<div>\n",
       "<style scoped>\n",
       "    .dataframe tbody tr th:only-of-type {\n",
       "        vertical-align: middle;\n",
       "    }\n",
       "\n",
       "    .dataframe tbody tr th {\n",
       "        vertical-align: top;\n",
       "    }\n",
       "\n",
       "    .dataframe thead th {\n",
       "        text-align: right;\n",
       "    }\n",
       "</style>\n",
       "<table border=\"1\" class=\"dataframe\">\n",
       "  <thead>\n",
       "    <tr style=\"text-align: right;\">\n",
       "      <th></th>\n",
       "      <th>title</th>\n",
       "      <th>text</th>\n",
       "      <th>subject</th>\n",
       "      <th>date</th>\n",
       "      <th>news_type</th>\n",
       "    </tr>\n",
       "  </thead>\n",
       "  <tbody>\n",
       "    <tr>\n",
       "      <th>0</th>\n",
       "      <td>As U.S. budget fight looms, Republicans flip t...</td>\n",
       "      <td>WASHINGTON (Reuters) - The head of a conservat...</td>\n",
       "      <td>politicsNews</td>\n",
       "      <td>December 31, 2017</td>\n",
       "      <td>true</td>\n",
       "    </tr>\n",
       "    <tr>\n",
       "      <th>1</th>\n",
       "      <td>U.S. military to accept transgender recruits o...</td>\n",
       "      <td>WASHINGTON (Reuters) - Transgender people will...</td>\n",
       "      <td>politicsNews</td>\n",
       "      <td>December 29, 2017</td>\n",
       "      <td>true</td>\n",
       "    </tr>\n",
       "    <tr>\n",
       "      <th>2</th>\n",
       "      <td>Senior U.S. Republican senator: 'Let Mr. Muell...</td>\n",
       "      <td>WASHINGTON (Reuters) - The special counsel inv...</td>\n",
       "      <td>politicsNews</td>\n",
       "      <td>December 31, 2017</td>\n",
       "      <td>true</td>\n",
       "    </tr>\n",
       "    <tr>\n",
       "      <th>3</th>\n",
       "      <td>FBI Russia probe helped by Australian diplomat...</td>\n",
       "      <td>WASHINGTON (Reuters) - Trump campaign adviser ...</td>\n",
       "      <td>politicsNews</td>\n",
       "      <td>December 30, 2017</td>\n",
       "      <td>true</td>\n",
       "    </tr>\n",
       "    <tr>\n",
       "      <th>4</th>\n",
       "      <td>Trump wants Postal Service to charge 'much mor...</td>\n",
       "      <td>SEATTLE/WASHINGTON (Reuters) - President Donal...</td>\n",
       "      <td>politicsNews</td>\n",
       "      <td>December 29, 2017</td>\n",
       "      <td>true</td>\n",
       "    </tr>\n",
       "    <tr>\n",
       "      <th>...</th>\n",
       "      <td>...</td>\n",
       "      <td>...</td>\n",
       "      <td>...</td>\n",
       "      <td>...</td>\n",
       "      <td>...</td>\n",
       "    </tr>\n",
       "    <tr>\n",
       "      <th>44893</th>\n",
       "      <td>McPain: John McCain Furious That Iran Treated ...</td>\n",
       "      <td>21st Century Wire says As 21WIRE reported earl...</td>\n",
       "      <td>Middle-east</td>\n",
       "      <td>January 16, 2016</td>\n",
       "      <td>fake</td>\n",
       "    </tr>\n",
       "    <tr>\n",
       "      <th>44894</th>\n",
       "      <td>JUSTICE? Yahoo Settles E-mail Privacy Class-ac...</td>\n",
       "      <td>21st Century Wire says It s a familiar theme. ...</td>\n",
       "      <td>Middle-east</td>\n",
       "      <td>January 16, 2016</td>\n",
       "      <td>fake</td>\n",
       "    </tr>\n",
       "    <tr>\n",
       "      <th>44895</th>\n",
       "      <td>Sunnistan: US and Allied ‘Safe Zone’ Plan to T...</td>\n",
       "      <td>Patrick Henningsen  21st Century WireRemember ...</td>\n",
       "      <td>Middle-east</td>\n",
       "      <td>January 15, 2016</td>\n",
       "      <td>fake</td>\n",
       "    </tr>\n",
       "    <tr>\n",
       "      <th>44896</th>\n",
       "      <td>How to Blow $700 Million: Al Jazeera America F...</td>\n",
       "      <td>21st Century Wire says Al Jazeera America will...</td>\n",
       "      <td>Middle-east</td>\n",
       "      <td>January 14, 2016</td>\n",
       "      <td>fake</td>\n",
       "    </tr>\n",
       "    <tr>\n",
       "      <th>44897</th>\n",
       "      <td>10 U.S. Navy Sailors Held by Iranian Military ...</td>\n",
       "      <td>21st Century Wire says As 21WIRE predicted in ...</td>\n",
       "      <td>Middle-east</td>\n",
       "      <td>January 12, 2016</td>\n",
       "      <td>fake</td>\n",
       "    </tr>\n",
       "  </tbody>\n",
       "</table>\n",
       "<p>44898 rows × 5 columns</p>\n",
       "</div>"
      ],
      "text/plain": [
       "                                                   title  \\\n",
       "0      As U.S. budget fight looms, Republicans flip t...   \n",
       "1      U.S. military to accept transgender recruits o...   \n",
       "2      Senior U.S. Republican senator: 'Let Mr. Muell...   \n",
       "3      FBI Russia probe helped by Australian diplomat...   \n",
       "4      Trump wants Postal Service to charge 'much mor...   \n",
       "...                                                  ...   \n",
       "44893  McPain: John McCain Furious That Iran Treated ...   \n",
       "44894  JUSTICE? Yahoo Settles E-mail Privacy Class-ac...   \n",
       "44895  Sunnistan: US and Allied ‘Safe Zone’ Plan to T...   \n",
       "44896  How to Blow $700 Million: Al Jazeera America F...   \n",
       "44897  10 U.S. Navy Sailors Held by Iranian Military ...   \n",
       "\n",
       "                                                    text       subject  \\\n",
       "0      WASHINGTON (Reuters) - The head of a conservat...  politicsNews   \n",
       "1      WASHINGTON (Reuters) - Transgender people will...  politicsNews   \n",
       "2      WASHINGTON (Reuters) - The special counsel inv...  politicsNews   \n",
       "3      WASHINGTON (Reuters) - Trump campaign adviser ...  politicsNews   \n",
       "4      SEATTLE/WASHINGTON (Reuters) - President Donal...  politicsNews   \n",
       "...                                                  ...           ...   \n",
       "44893  21st Century Wire says As 21WIRE reported earl...   Middle-east   \n",
       "44894  21st Century Wire says It s a familiar theme. ...   Middle-east   \n",
       "44895  Patrick Henningsen  21st Century WireRemember ...   Middle-east   \n",
       "44896  21st Century Wire says Al Jazeera America will...   Middle-east   \n",
       "44897  21st Century Wire says As 21WIRE predicted in ...   Middle-east   \n",
       "\n",
       "                     date news_type  \n",
       "0      December 31, 2017       true  \n",
       "1      December 29, 2017       true  \n",
       "2      December 31, 2017       true  \n",
       "3      December 30, 2017       true  \n",
       "4      December 29, 2017       true  \n",
       "...                   ...       ...  \n",
       "44893    January 16, 2016      fake  \n",
       "44894    January 16, 2016      fake  \n",
       "44895    January 15, 2016      fake  \n",
       "44896    January 14, 2016      fake  \n",
       "44897    January 12, 2016      fake  \n",
       "\n",
       "[44898 rows x 5 columns]"
      ]
     },
     "execution_count": 6,
     "metadata": {},
     "output_type": "execute_result"
    }
   ],
   "source": [
    "df_merged=pd.concat([df_true,df_fake],axis=0,ignore_index=True) #merging two dataset\n",
    "print(f\"shape of merged dataset: {df_merged.shape}\")\n",
    "df_merged"
   ]
  },
  {
   "cell_type": "code",
   "execution_count": 7,
   "id": "38af4c49",
   "metadata": {},
   "outputs": [
    {
     "data": {
      "text/html": [
       "<div>\n",
       "<style scoped>\n",
       "    .dataframe tbody tr th:only-of-type {\n",
       "        vertical-align: middle;\n",
       "    }\n",
       "\n",
       "    .dataframe tbody tr th {\n",
       "        vertical-align: top;\n",
       "    }\n",
       "\n",
       "    .dataframe thead th {\n",
       "        text-align: right;\n",
       "    }\n",
       "</style>\n",
       "<table border=\"1\" class=\"dataframe\">\n",
       "  <thead>\n",
       "    <tr style=\"text-align: right;\">\n",
       "      <th></th>\n",
       "      <th>title</th>\n",
       "      <th>text</th>\n",
       "      <th>subject</th>\n",
       "      <th>date</th>\n",
       "      <th>news_type</th>\n",
       "      <th>news_type_label</th>\n",
       "    </tr>\n",
       "  </thead>\n",
       "  <tbody>\n",
       "    <tr>\n",
       "      <th>0</th>\n",
       "      <td>As U.S. budget fight looms, Republicans flip t...</td>\n",
       "      <td>WASHINGTON (Reuters) - The head of a conservat...</td>\n",
       "      <td>politicsNews</td>\n",
       "      <td>December 31, 2017</td>\n",
       "      <td>true</td>\n",
       "      <td>0</td>\n",
       "    </tr>\n",
       "    <tr>\n",
       "      <th>1</th>\n",
       "      <td>U.S. military to accept transgender recruits o...</td>\n",
       "      <td>WASHINGTON (Reuters) - Transgender people will...</td>\n",
       "      <td>politicsNews</td>\n",
       "      <td>December 29, 2017</td>\n",
       "      <td>true</td>\n",
       "      <td>0</td>\n",
       "    </tr>\n",
       "    <tr>\n",
       "      <th>2</th>\n",
       "      <td>Senior U.S. Republican senator: 'Let Mr. Muell...</td>\n",
       "      <td>WASHINGTON (Reuters) - The special counsel inv...</td>\n",
       "      <td>politicsNews</td>\n",
       "      <td>December 31, 2017</td>\n",
       "      <td>true</td>\n",
       "      <td>0</td>\n",
       "    </tr>\n",
       "    <tr>\n",
       "      <th>3</th>\n",
       "      <td>FBI Russia probe helped by Australian diplomat...</td>\n",
       "      <td>WASHINGTON (Reuters) - Trump campaign adviser ...</td>\n",
       "      <td>politicsNews</td>\n",
       "      <td>December 30, 2017</td>\n",
       "      <td>true</td>\n",
       "      <td>0</td>\n",
       "    </tr>\n",
       "    <tr>\n",
       "      <th>4</th>\n",
       "      <td>Trump wants Postal Service to charge 'much mor...</td>\n",
       "      <td>SEATTLE/WASHINGTON (Reuters) - President Donal...</td>\n",
       "      <td>politicsNews</td>\n",
       "      <td>December 29, 2017</td>\n",
       "      <td>true</td>\n",
       "      <td>0</td>\n",
       "    </tr>\n",
       "    <tr>\n",
       "      <th>...</th>\n",
       "      <td>...</td>\n",
       "      <td>...</td>\n",
       "      <td>...</td>\n",
       "      <td>...</td>\n",
       "      <td>...</td>\n",
       "      <td>...</td>\n",
       "    </tr>\n",
       "    <tr>\n",
       "      <th>44893</th>\n",
       "      <td>McPain: John McCain Furious That Iran Treated ...</td>\n",
       "      <td>21st Century Wire says As 21WIRE reported earl...</td>\n",
       "      <td>Middle-east</td>\n",
       "      <td>January 16, 2016</td>\n",
       "      <td>fake</td>\n",
       "      <td>1</td>\n",
       "    </tr>\n",
       "    <tr>\n",
       "      <th>44894</th>\n",
       "      <td>JUSTICE? Yahoo Settles E-mail Privacy Class-ac...</td>\n",
       "      <td>21st Century Wire says It s a familiar theme. ...</td>\n",
       "      <td>Middle-east</td>\n",
       "      <td>January 16, 2016</td>\n",
       "      <td>fake</td>\n",
       "      <td>1</td>\n",
       "    </tr>\n",
       "    <tr>\n",
       "      <th>44895</th>\n",
       "      <td>Sunnistan: US and Allied ‘Safe Zone’ Plan to T...</td>\n",
       "      <td>Patrick Henningsen  21st Century WireRemember ...</td>\n",
       "      <td>Middle-east</td>\n",
       "      <td>January 15, 2016</td>\n",
       "      <td>fake</td>\n",
       "      <td>1</td>\n",
       "    </tr>\n",
       "    <tr>\n",
       "      <th>44896</th>\n",
       "      <td>How to Blow $700 Million: Al Jazeera America F...</td>\n",
       "      <td>21st Century Wire says Al Jazeera America will...</td>\n",
       "      <td>Middle-east</td>\n",
       "      <td>January 14, 2016</td>\n",
       "      <td>fake</td>\n",
       "      <td>1</td>\n",
       "    </tr>\n",
       "    <tr>\n",
       "      <th>44897</th>\n",
       "      <td>10 U.S. Navy Sailors Held by Iranian Military ...</td>\n",
       "      <td>21st Century Wire says As 21WIRE predicted in ...</td>\n",
       "      <td>Middle-east</td>\n",
       "      <td>January 12, 2016</td>\n",
       "      <td>fake</td>\n",
       "      <td>1</td>\n",
       "    </tr>\n",
       "  </tbody>\n",
       "</table>\n",
       "<p>44898 rows × 6 columns</p>\n",
       "</div>"
      ],
      "text/plain": [
       "                                                   title  \\\n",
       "0      As U.S. budget fight looms, Republicans flip t...   \n",
       "1      U.S. military to accept transgender recruits o...   \n",
       "2      Senior U.S. Republican senator: 'Let Mr. Muell...   \n",
       "3      FBI Russia probe helped by Australian diplomat...   \n",
       "4      Trump wants Postal Service to charge 'much mor...   \n",
       "...                                                  ...   \n",
       "44893  McPain: John McCain Furious That Iran Treated ...   \n",
       "44894  JUSTICE? Yahoo Settles E-mail Privacy Class-ac...   \n",
       "44895  Sunnistan: US and Allied ‘Safe Zone’ Plan to T...   \n",
       "44896  How to Blow $700 Million: Al Jazeera America F...   \n",
       "44897  10 U.S. Navy Sailors Held by Iranian Military ...   \n",
       "\n",
       "                                                    text       subject  \\\n",
       "0      WASHINGTON (Reuters) - The head of a conservat...  politicsNews   \n",
       "1      WASHINGTON (Reuters) - Transgender people will...  politicsNews   \n",
       "2      WASHINGTON (Reuters) - The special counsel inv...  politicsNews   \n",
       "3      WASHINGTON (Reuters) - Trump campaign adviser ...  politicsNews   \n",
       "4      SEATTLE/WASHINGTON (Reuters) - President Donal...  politicsNews   \n",
       "...                                                  ...           ...   \n",
       "44893  21st Century Wire says As 21WIRE reported earl...   Middle-east   \n",
       "44894  21st Century Wire says It s a familiar theme. ...   Middle-east   \n",
       "44895  Patrick Henningsen  21st Century WireRemember ...   Middle-east   \n",
       "44896  21st Century Wire says Al Jazeera America will...   Middle-east   \n",
       "44897  21st Century Wire says As 21WIRE predicted in ...   Middle-east   \n",
       "\n",
       "                     date news_type  news_type_label  \n",
       "0      December 31, 2017       true                0  \n",
       "1      December 29, 2017       true                0  \n",
       "2      December 31, 2017       true                0  \n",
       "3      December 30, 2017       true                0  \n",
       "4      December 29, 2017       true                0  \n",
       "...                   ...       ...              ...  \n",
       "44893    January 16, 2016      fake                1  \n",
       "44894    January 16, 2016      fake                1  \n",
       "44895    January 15, 2016      fake                1  \n",
       "44896    January 14, 2016      fake                1  \n",
       "44897    January 12, 2016      fake                1  \n",
       "\n",
       "[44898 rows x 6 columns]"
      ]
     },
     "execution_count": 7,
     "metadata": {},
     "output_type": "execute_result"
    }
   ],
   "source": [
    "df_merged[\"news_type_label\"]=df_merged[\"news_type\"].map({\n",
    "    \"true\":0,\n",
    "    \"fake\":1\n",
    "})                                        #create new column and true labelling as 0 and fake as 1\n",
    "df_merged                "
   ]
  },
  {
   "cell_type": "code",
   "execution_count": 8,
   "id": "c08b3c93",
   "metadata": {},
   "outputs": [],
   "source": [
    "def nan_check(col):                                   #a function for checking nan value in column\n",
    "    nan_df=df_merged[col][df_merged[col]==np.nan]\n",
    "    print(f\"no of missing values in {col}: {nan_df.shape[0]} \")\n",
    "    return"
   ]
  },
  {
   "cell_type": "code",
   "execution_count": 9,
   "id": "fa818b36",
   "metadata": {},
   "outputs": [
    {
     "name": "stdout",
     "output_type": "stream",
     "text": [
      "no of missing values in text: 0 \n",
      "no of missing values in title: 0 \n",
      "no of missing values in subject: 0 \n",
      "no of missing values in date: 0 \n"
     ]
    }
   ],
   "source": [
    "# checking nan value in every column\n",
    "\n",
    "nan_check(\"text\")\n",
    "nan_check(\"title\")\n",
    "nan_check(\"subject\")\n",
    "nan_check(\"date\")"
   ]
  },
  {
   "cell_type": "code",
   "execution_count": 10,
   "id": "6979b0d5",
   "metadata": {},
   "outputs": [],
   "source": [
    "df=df_merged.sample(frac=1).reset_index(drop=True)  #shuffling the rows "
   ]
  },
  {
   "cell_type": "code",
   "execution_count": 11,
   "id": "2622f9c1",
   "metadata": {},
   "outputs": [
    {
     "data": {
      "text/html": [
       "<div>\n",
       "<style scoped>\n",
       "    .dataframe tbody tr th:only-of-type {\n",
       "        vertical-align: middle;\n",
       "    }\n",
       "\n",
       "    .dataframe tbody tr th {\n",
       "        vertical-align: top;\n",
       "    }\n",
       "\n",
       "    .dataframe thead th {\n",
       "        text-align: right;\n",
       "    }\n",
       "</style>\n",
       "<table border=\"1\" class=\"dataframe\">\n",
       "  <thead>\n",
       "    <tr style=\"text-align: right;\">\n",
       "      <th></th>\n",
       "      <th>title</th>\n",
       "      <th>text</th>\n",
       "      <th>subject</th>\n",
       "      <th>date</th>\n",
       "      <th>news_type</th>\n",
       "      <th>news_type_label</th>\n",
       "    </tr>\n",
       "  </thead>\n",
       "  <tbody>\n",
       "    <tr>\n",
       "      <th>0</th>\n",
       "      <td>Trump seeks to clarify comments on guns at Orl...</td>\n",
       "      <td>(Reuters) - Republican U.S. presidential candi...</td>\n",
       "      <td>politicsNews</td>\n",
       "      <td>June 20, 2016</td>\n",
       "      <td>true</td>\n",
       "      <td>0</td>\n",
       "    </tr>\n",
       "    <tr>\n",
       "      <th>1</th>\n",
       "      <td>Harris Corp wins $1.7 billion U.S. defense con...</td>\n",
       "      <td>WASHINGTON (Reuters) - Harris Corp was awarded...</td>\n",
       "      <td>politicsNews</td>\n",
       "      <td>June 22, 2016</td>\n",
       "      <td>true</td>\n",
       "      <td>0</td>\n",
       "    </tr>\n",
       "    <tr>\n",
       "      <th>2</th>\n",
       "      <td>Trump Tweets Lie About America’s Third Bigges...</td>\n",
       "      <td>Donald Trump has been tweeting all day   and h...</td>\n",
       "      <td>News</td>\n",
       "      <td>June 22, 2017</td>\n",
       "      <td>fake</td>\n",
       "      <td>1</td>\n",
       "    </tr>\n",
       "    <tr>\n",
       "      <th>3</th>\n",
       "      <td>Odebrecht paid firms linked to Peru's Kuczynsk...</td>\n",
       "      <td>LIMA (Reuters) - Brazilian builder Odebrecht t...</td>\n",
       "      <td>worldnews</td>\n",
       "      <td>December 14, 2017</td>\n",
       "      <td>true</td>\n",
       "      <td>0</td>\n",
       "    </tr>\n",
       "    <tr>\n",
       "      <th>4</th>\n",
       "      <td>WHAT OSCARS? “CONGRATULATIONS MELANIA!”…PRESID...</td>\n",
       "      <td>As Hollywood had its big night at The Oscars, ...</td>\n",
       "      <td>politics</td>\n",
       "      <td>Feb 26, 2017</td>\n",
       "      <td>fake</td>\n",
       "      <td>1</td>\n",
       "    </tr>\n",
       "  </tbody>\n",
       "</table>\n",
       "</div>"
      ],
      "text/plain": [
       "                                               title  \\\n",
       "0  Trump seeks to clarify comments on guns at Orl...   \n",
       "1  Harris Corp wins $1.7 billion U.S. defense con...   \n",
       "2   Trump Tweets Lie About America’s Third Bigges...   \n",
       "3  Odebrecht paid firms linked to Peru's Kuczynsk...   \n",
       "4  WHAT OSCARS? “CONGRATULATIONS MELANIA!”…PRESID...   \n",
       "\n",
       "                                                text       subject  \\\n",
       "0  (Reuters) - Republican U.S. presidential candi...  politicsNews   \n",
       "1  WASHINGTON (Reuters) - Harris Corp was awarded...  politicsNews   \n",
       "2  Donald Trump has been tweeting all day   and h...          News   \n",
       "3  LIMA (Reuters) - Brazilian builder Odebrecht t...     worldnews   \n",
       "4  As Hollywood had its big night at The Oscars, ...      politics   \n",
       "\n",
       "                 date news_type  news_type_label  \n",
       "0      June 20, 2016       true                0  \n",
       "1      June 22, 2016       true                0  \n",
       "2       June 22, 2017      fake                1  \n",
       "3  December 14, 2017       true                0  \n",
       "4        Feb 26, 2017      fake                1  "
      ]
     },
     "execution_count": 11,
     "metadata": {},
     "output_type": "execute_result"
    }
   ],
   "source": [
    "df.head()"
   ]
  },
  {
   "cell_type": "markdown",
   "id": "7ecdb3cf",
   "metadata": {},
   "source": [
    "# Data Preprocessing"
   ]
  },
  {
   "cell_type": "code",
   "execution_count": 12,
   "id": "d4f734b8",
   "metadata": {},
   "outputs": [],
   "source": [
    "import nltk\n",
    "from nltk.tokenize import word_tokenize\n",
    "from nltk.corpus import stopwords\n",
    "from nltk.stem import PorterStemmer"
   ]
  },
  {
   "cell_type": "code",
   "execution_count": 13,
   "id": "7616b50b",
   "metadata": {},
   "outputs": [],
   "source": [
    "def reg(text):\n",
    "    pattern=r\"[^\\w\\s]\"\n",
    "    processed=re.sub(pattern,'',text)  #removing the punctuations using regex\n",
    "    return processed\n",
    "\n",
    "reg_text=df.text.apply(reg)"
   ]
  },
  {
   "cell_type": "code",
   "execution_count": 14,
   "id": "8a8b03d9",
   "metadata": {},
   "outputs": [
    {
     "data": {
      "text/plain": [
       "'Reuters  Republican US presidential candidate Donald Trump said he was referring to security staff but not patrons in comments that if more people had been armed during a Florida nightclub shooting last week fewer would have died When I said that if within the Orlando club you had some people with guns I was obviously talking about additional guards or employees Trump said on Twitter on Monday Trump had said last week that he wished someone inside the Pulse nightclub in Orlando on June 12 was carrying a firearm to stop a gunman before he could kill more clubgoers  If the bullets were going in the other direction aimed at this guy who was just open target practice you would have had a situation that was always horrible but nothing like the carnage that we all as a people suffered this weekend Trump said on Wednesday at a rally in Atlanta National Rifle Association President Wayne LaPierre on Sunday appeared critical of the idea of having clubgoers armed I dont think you should have firearms where people are drinking LaPierre said on CBSs Face the Nation  An offduty Orlando police officer was working security at the club when the shooting occurred authorities have said '"
      ]
     },
     "execution_count": 14,
     "metadata": {},
     "output_type": "execute_result"
    }
   ],
   "source": [
    "reg_text[0]"
   ]
  },
  {
   "cell_type": "code",
   "execution_count": 15,
   "id": "928b1551",
   "metadata": {},
   "outputs": [],
   "source": [
    "def preprocessed_text(datf):\n",
    "    datf=datf.apply(lambda x: x.lower() if isinstance(x, str) else x) # making all the words in lower case\n",
    "    datf=datf.apply(word_tokenize)        # tokenization using nltk\n",
    "    stop_word=stopwords.words(\"english\")  # storing all the stopwords\n",
    "    datf=datf.apply(lambda x:[i for i in x if i not in stop_word])  #removing the stopwords\n",
    "    stemr=PorterStemmer()\n",
    "    datf=datf.apply(lambda x: [stemr.stem(i) for i in x])  # stemming using Porterstemmer\n",
    "\n",
    "    datf=datf.apply(lambda x: \" \".join(x))  # after all the preprocessing task putting it as string\n",
    "    return datf"
   ]
  },
  {
   "cell_type": "code",
   "execution_count": 16,
   "id": "e8359c8e",
   "metadata": {},
   "outputs": [],
   "source": [
    "df[\"processed_text\"]=preprocessed_text(reg_text)"
   ]
  },
  {
   "cell_type": "code",
   "execution_count": 17,
   "id": "b12a8677",
   "metadata": {},
   "outputs": [
    {
     "data": {
      "text/plain": [
       "'reuter republican us presidenti candid donald trump said refer secur staff patron comment peopl arm florida nightclub shoot last week fewer would die said within orlando club peopl gun obvious talk addit guard employe trump said twitter monday trump said last week wish someon insid puls nightclub orlando june 12 carri firearm stop gunman could kill clubgoer bullet go direct aim guy open target practic would situat alway horribl noth like carnag peopl suffer weekend trump said wednesday ralli atlanta nation rifl associ presid wayn lapierr sunday appear critic idea clubgoer arm dont think firearm peopl drink lapierr said cbss face nation offduti orlando polic offic work secur club shoot occur author said'"
      ]
     },
     "execution_count": 17,
     "metadata": {},
     "output_type": "execute_result"
    }
   ],
   "source": [
    "df.processed_text[0]"
   ]
  },
  {
   "cell_type": "code",
   "execution_count": 18,
   "id": "db91657b",
   "metadata": {},
   "outputs": [
    {
     "data": {
      "text/html": [
       "<div>\n",
       "<style scoped>\n",
       "    .dataframe tbody tr th:only-of-type {\n",
       "        vertical-align: middle;\n",
       "    }\n",
       "\n",
       "    .dataframe tbody tr th {\n",
       "        vertical-align: top;\n",
       "    }\n",
       "\n",
       "    .dataframe thead th {\n",
       "        text-align: right;\n",
       "    }\n",
       "</style>\n",
       "<table border=\"1\" class=\"dataframe\">\n",
       "  <thead>\n",
       "    <tr style=\"text-align: right;\">\n",
       "      <th></th>\n",
       "      <th>title</th>\n",
       "      <th>text</th>\n",
       "      <th>subject</th>\n",
       "      <th>date</th>\n",
       "      <th>news_type</th>\n",
       "      <th>news_type_label</th>\n",
       "      <th>processed_text</th>\n",
       "    </tr>\n",
       "  </thead>\n",
       "  <tbody>\n",
       "    <tr>\n",
       "      <th>0</th>\n",
       "      <td>Trump seeks to clarify comments on guns at Orl...</td>\n",
       "      <td>(Reuters) - Republican U.S. presidential candi...</td>\n",
       "      <td>politicsNews</td>\n",
       "      <td>June 20, 2016</td>\n",
       "      <td>true</td>\n",
       "      <td>0</td>\n",
       "      <td>reuter republican us presidenti candid donald ...</td>\n",
       "    </tr>\n",
       "    <tr>\n",
       "      <th>1</th>\n",
       "      <td>Harris Corp wins $1.7 billion U.S. defense con...</td>\n",
       "      <td>WASHINGTON (Reuters) - Harris Corp was awarded...</td>\n",
       "      <td>politicsNews</td>\n",
       "      <td>June 22, 2016</td>\n",
       "      <td>true</td>\n",
       "      <td>0</td>\n",
       "      <td>washington reuter harri corp award 17 billion ...</td>\n",
       "    </tr>\n",
       "    <tr>\n",
       "      <th>2</th>\n",
       "      <td>Trump Tweets Lie About America’s Third Bigges...</td>\n",
       "      <td>Donald Trump has been tweeting all day   and h...</td>\n",
       "      <td>News</td>\n",
       "      <td>June 22, 2017</td>\n",
       "      <td>fake</td>\n",
       "      <td>1</td>\n",
       "      <td>donald trump tweet day latest trigger needless...</td>\n",
       "    </tr>\n",
       "    <tr>\n",
       "      <th>3</th>\n",
       "      <td>Odebrecht paid firms linked to Peru's Kuczynsk...</td>\n",
       "      <td>LIMA (Reuters) - Brazilian builder Odebrecht t...</td>\n",
       "      <td>worldnews</td>\n",
       "      <td>December 14, 2017</td>\n",
       "      <td>true</td>\n",
       "      <td>0</td>\n",
       "      <td>lima reuter brazilian builder odebrecht transf...</td>\n",
       "    </tr>\n",
       "    <tr>\n",
       "      <th>4</th>\n",
       "      <td>WHAT OSCARS? “CONGRATULATIONS MELANIA!”…PRESID...</td>\n",
       "      <td>As Hollywood had its big night at The Oscars, ...</td>\n",
       "      <td>politics</td>\n",
       "      <td>Feb 26, 2017</td>\n",
       "      <td>fake</td>\n",
       "      <td>1</td>\n",
       "      <td>hollywood big night oscar donald melania trump...</td>\n",
       "    </tr>\n",
       "  </tbody>\n",
       "</table>\n",
       "</div>"
      ],
      "text/plain": [
       "                                               title  \\\n",
       "0  Trump seeks to clarify comments on guns at Orl...   \n",
       "1  Harris Corp wins $1.7 billion U.S. defense con...   \n",
       "2   Trump Tweets Lie About America’s Third Bigges...   \n",
       "3  Odebrecht paid firms linked to Peru's Kuczynsk...   \n",
       "4  WHAT OSCARS? “CONGRATULATIONS MELANIA!”…PRESID...   \n",
       "\n",
       "                                                text       subject  \\\n",
       "0  (Reuters) - Republican U.S. presidential candi...  politicsNews   \n",
       "1  WASHINGTON (Reuters) - Harris Corp was awarded...  politicsNews   \n",
       "2  Donald Trump has been tweeting all day   and h...          News   \n",
       "3  LIMA (Reuters) - Brazilian builder Odebrecht t...     worldnews   \n",
       "4  As Hollywood had its big night at The Oscars, ...      politics   \n",
       "\n",
       "                 date news_type  news_type_label  \\\n",
       "0      June 20, 2016       true                0   \n",
       "1      June 22, 2016       true                0   \n",
       "2       June 22, 2017      fake                1   \n",
       "3  December 14, 2017       true                0   \n",
       "4        Feb 26, 2017      fake                1   \n",
       "\n",
       "                                      processed_text  \n",
       "0  reuter republican us presidenti candid donald ...  \n",
       "1  washington reuter harri corp award 17 billion ...  \n",
       "2  donald trump tweet day latest trigger needless...  \n",
       "3  lima reuter brazilian builder odebrecht transf...  \n",
       "4  hollywood big night oscar donald melania trump...  "
      ]
     },
     "execution_count": 18,
     "metadata": {},
     "output_type": "execute_result"
    }
   ],
   "source": [
    "df.head()"
   ]
  },
  {
   "cell_type": "code",
   "execution_count": 19,
   "id": "053410c8",
   "metadata": {},
   "outputs": [],
   "source": [
    "X=df[\"processed_text\"]     #here X as feature\n",
    "y=df[\"news_type_label\"]    # y as target\n",
    "from sklearn.model_selection import train_test_split\n",
    "X_train,X_test, y_train, y_test=train_test_split(X, y, test_size=0.2,random_state=42) # splitting into train and test datasets"
   ]
  },
  {
   "cell_type": "code",
   "execution_count": 20,
   "id": "db2519d3",
   "metadata": {},
   "outputs": [],
   "source": [
    "from sklearn.feature_extraction.text import TfidfVectorizer\n",
    "tfidf=TfidfVectorizer()\n",
    "X_train_tfidf=tfidf.fit_transform(X_train)\n",
    "X_test_tfidf=tfidf.transform(X_test)"
   ]
  },
  {
   "cell_type": "markdown",
   "id": "8c15dc3a",
   "metadata": {},
   "source": [
    "# Model Training"
   ]
  },
  {
   "cell_type": "code",
   "execution_count": 35,
   "id": "5461b1d5",
   "metadata": {},
   "outputs": [],
   "source": [
    "from sklearn.linear_model import LogisticRegression\n",
    "from sklearn.tree import DecisionTreeClassifier\n",
    "from sklearn.ensemble import GradientBoostingClassifier, RandomForestClassifier\n",
    "from sklearn.metrics import classification_report,accuracy_score,jaccard_score,f1_score,confusion_matrix,ConfusionMatrixDisplay"
   ]
  },
  {
   "cell_type": "code",
   "execution_count": 23,
   "id": "460f646e",
   "metadata": {},
   "outputs": [],
   "source": [
    "def default_model_pred(model):\n",
    "    model.fit(X_train_tfidf ,y_train)   # training the datasets\n",
    "    y_pred=model.predict(X_test_tfidf) # prediction of the test data set\n",
    "    print(\"Accuracy on test set: {:.2f}\".format(accuracy_score(y_test, y_pred)))  #finding accuracy score\n",
    "    print(\"Classification report:\\n\",classification_report(y_test,y_pred)) # showing the classification report"
   ]
  },
  {
   "cell_type": "code",
   "execution_count": 24,
   "id": "0f823055",
   "metadata": {},
   "outputs": [
    {
     "name": "stdout",
     "output_type": "stream",
     "text": [
      "Accuracy on test set: 0.98\n",
      "Classification report:\n",
      "               precision    recall  f1-score   support\n",
      "\n",
      "           0       0.98      0.99      0.98      4309\n",
      "           1       0.99      0.98      0.99      4671\n",
      "\n",
      "    accuracy                           0.98      8980\n",
      "   macro avg       0.98      0.98      0.98      8980\n",
      "weighted avg       0.98      0.98      0.98      8980\n",
      "\n"
     ]
    }
   ],
   "source": [
    "# logistic regression\n",
    "default_model_pred(LogisticRegression())"
   ]
  },
  {
   "cell_type": "code",
   "execution_count": 25,
   "id": "4892f95c",
   "metadata": {},
   "outputs": [
    {
     "name": "stdout",
     "output_type": "stream",
     "text": [
      "Accuracy on test set: 0.99\n",
      "Classification report:\n",
      "               precision    recall  f1-score   support\n",
      "\n",
      "           0       0.98      0.99      0.99      4309\n",
      "           1       0.99      0.99      0.99      4671\n",
      "\n",
      "    accuracy                           0.99      8980\n",
      "   macro avg       0.99      0.99      0.99      8980\n",
      "weighted avg       0.99      0.99      0.99      8980\n",
      "\n"
     ]
    }
   ],
   "source": [
    "# random forest\n",
    "default_model_pred(RandomForestClassifier())"
   ]
  },
  {
   "cell_type": "code",
   "execution_count": 26,
   "id": "3646e6ed",
   "metadata": {},
   "outputs": [
    {
     "name": "stdout",
     "output_type": "stream",
     "text": [
      "Accuracy on test set: 1.00\n",
      "Classification report:\n",
      "               precision    recall  f1-score   support\n",
      "\n",
      "           0       1.00      1.00      1.00      4309\n",
      "           1       1.00      1.00      1.00      4671\n",
      "\n",
      "    accuracy                           1.00      8980\n",
      "   macro avg       1.00      1.00      1.00      8980\n",
      "weighted avg       1.00      1.00      1.00      8980\n",
      "\n"
     ]
    }
   ],
   "source": [
    "# decision tree\n",
    "default_model_pred(DecisionTreeClassifier())"
   ]
  },
  {
   "cell_type": "code",
   "execution_count": 27,
   "id": "17b1bf11",
   "metadata": {},
   "outputs": [
    {
     "name": "stdout",
     "output_type": "stream",
     "text": [
      "Accuracy on test set: 0.99\n",
      "Classification report:\n",
      "               precision    recall  f1-score   support\n",
      "\n",
      "           0       0.99      1.00      0.99      4309\n",
      "           1       1.00      0.99      1.00      4671\n",
      "\n",
      "    accuracy                           0.99      8980\n",
      "   macro avg       0.99      1.00      0.99      8980\n",
      "weighted avg       0.99      0.99      0.99      8980\n",
      "\n"
     ]
    }
   ],
   "source": [
    "# gradient boosting\n",
    "default_model_pred(GradientBoostingClassifier())"
   ]
  },
  {
   "cell_type": "markdown",
   "id": "5b1269a7",
   "metadata": {},
   "source": [
    "# Hyperparameter Tuning"
   ]
  },
  {
   "cell_type": "code",
   "execution_count": 28,
   "id": "33f207d5",
   "metadata": {},
   "outputs": [],
   "source": [
    "from sklearn.experimental import enable_halving_search_cv\n",
    "from sklearn.model_selection import HalvingGridSearchCV"
   ]
  },
  {
   "cell_type": "markdown",
   "id": "8620883f",
   "metadata": {},
   "source": [
    "Here HalvingGridSearchCV is used for hyperparameter tuning to make the process fast.\n",
    "\"n_jobs=-1\" is used to use all available CPU cores."
   ]
  },
  {
   "cell_type": "markdown",
   "id": "505fb891",
   "metadata": {},
   "source": [
    "In every case, I took just one parameter for hyperparameter tuning to run it fast. I might get better result if I used more than one parameter. "
   ]
  },
  {
   "cell_type": "code",
   "execution_count": 29,
   "id": "8a7730c3",
   "metadata": {},
   "outputs": [
    {
     "name": "stdout",
     "output_type": "stream",
     "text": [
      "Best parameters for logistic regression are: {'C': 100}\n",
      "Best score for logistic regression is: 0.9934285301013761\n"
     ]
    }
   ],
   "source": [
    "#hyperparameter tuning for logistic regression model\n",
    "\n",
    "parameters={\n",
    "    'C': [0.1, 1, 10, 100]   # Inverse of regularization strength\n",
    "}\n",
    "gs_cv_log=HalvingGridSearchCV(LogisticRegression(max_iter=1000),param_grid=parameters,cv=5, scoring='accuracy')\n",
    "gs_cv_log.fit(X_train_tfidf,y_train)\n",
    "print(f\"Best parameters for logistic regression are: {gs_cv_log.best_params_}\")\n",
    "print(f\"Best score for logistic regression is: {gs_cv_log.best_score_}\")"
   ]
  },
  {
   "cell_type": "code",
   "execution_count": 30,
   "id": "98cd7d10",
   "metadata": {},
   "outputs": [
    {
     "name": "stdout",
     "output_type": "stream",
     "text": [
      "Best parameters for Random Forest model are: {'n_estimators': 300}\n",
      "Best score for Random Forest model is: 0.9868571493702467\n"
     ]
    }
   ],
   "source": [
    "#hyperparameter tuning for Random forest model\n",
    "\n",
    "parameters={\n",
    "    'n_estimators': [100, 200, 300]      # Number of trees in the forest\n",
    "}\n",
    "gs_cv_ran=HalvingGridSearchCV(RandomForestClassifier(random_state=42),param_grid=parameters,cv=5, scoring='accuracy',n_jobs=-1)\n",
    "gs_cv_ran.fit(X_train_tfidf,y_train)\n",
    "print(f\"Best parameters for Random Forest model are: {gs_cv_ran.best_params_}\")\n",
    "print(f\"Best score for Random Forest model is: {gs_cv_ran.best_score_}\")"
   ]
  },
  {
   "cell_type": "code",
   "execution_count": 31,
   "id": "08d3a736",
   "metadata": {},
   "outputs": [
    {
     "name": "stdout",
     "output_type": "stream",
     "text": [
      "Best parameters for Decision Tree classifier are: {'criterion': 'entropy'}\n",
      "Best score for Decision Tree classifier is: 0.9955174995589375\n"
     ]
    }
   ],
   "source": [
    "#hyperparameter tuning for Decision Tree classifier\n",
    "\n",
    "parameters={\n",
    "    'criterion': ['gini', 'entropy']      # Split criterion\n",
    "}\n",
    "gs_cv_dt=HalvingGridSearchCV(DecisionTreeClassifier(random_state=42),param_grid=parameters,cv=5, scoring='accuracy',n_jobs=-1)\n",
    "gs_cv_dt.fit(X_train_tfidf,y_train)\n",
    "print(f\"Best parameters for Decision Tree classifier are: {gs_cv_dt.best_params_}\")\n",
    "print(f\"Best score for Decision Tree classifier is: {gs_cv_dt.best_score_}\")"
   ]
  },
  {
   "cell_type": "code",
   "execution_count": 32,
   "id": "d19ecb94",
   "metadata": {},
   "outputs": [
    {
     "name": "stdout",
     "output_type": "stream",
     "text": [
      "Best parameters for Gradient boosting are: {'n_estimators': 200}\n",
      "Best score for Gradient boosting is: 0.9950156804916215\n"
     ]
    }
   ],
   "source": [
    "#hyperparameter tuning for Gradient boosting\n",
    "\n",
    "parameters={\n",
    "    'n_estimators': [50, 100, 200]          # Number of boosting stages (trees)\n",
    "}\n",
    "gs_cv_gb=HalvingGridSearchCV(GradientBoostingClassifier(random_state=42),param_grid=parameters,cv=5, scoring='accuracy',n_jobs=-1)\n",
    "gs_cv_gb.fit(X_train_tfidf,y_train)\n",
    "print(f\"Best parameters for Gradient boosting are: {gs_cv_gb.best_params_}\")\n",
    "print(f\"Best score for Gradient boosting is: {gs_cv_gb.best_score_}\")"
   ]
  },
  {
   "cell_type": "markdown",
   "id": "1609d984",
   "metadata": {},
   "source": [
    "# Model Evaluation\n",
    "On the basis of best model from Hyperparameter tuning"
   ]
  },
  {
   "cell_type": "code",
   "execution_count": 47,
   "id": "6f9fcc50",
   "metadata": {},
   "outputs": [],
   "source": [
    "# creating function for model evaluation\n",
    "def model_evaluation(gs_cv,model):\n",
    "    best_model=gs_cv.best_estimator_                      #choosing the best model from hyperparameter tuning\n",
    "    y_pred = best_model.predict(X_test_tfidf)             #predicting on test dataset\n",
    "    acc_score=accuracy_score(y_test, y_pred)\n",
    "    jac_index=jaccard_score(y_test, y_pred)\n",
    "    f1_sc=f1_score(y_test, y_pred)\n",
    "    print(f\"Classification Report for {model}:\\n{classification_report(y_test, y_pred)}\")                    #showing classification report\n",
    "    cm = confusion_matrix(y_test, y_pred)\n",
    "\n",
    "    # Display confusion matrix\n",
    "    disp = ConfusionMatrixDisplay(confusion_matrix=cm)\n",
    "    disp.plot()\n",
    "    plt.title(f\"Confusion matrix for {model}\")\n",
    "    plt.xticks(ticks=[0,1],labels=[\"True\",\"Fake\"])\n",
    "    plt.yticks(ticks=[0,1],labels=[\"True\",\"Fake\"])\n",
    "    return f\"{acc_score :.2f}\",f\"{jac_index :.2f}\",f\"{f1_sc :.2f}\""
   ]
  },
  {
   "cell_type": "code",
   "execution_count": 48,
   "id": "f894c0fe",
   "metadata": {},
   "outputs": [
    {
     "name": "stdout",
     "output_type": "stream",
     "text": [
      "Classification Report for Logistic Regression:\n",
      "              precision    recall  f1-score   support\n",
      "\n",
      "           0       0.99      1.00      0.99      4309\n",
      "           1       1.00      1.00      1.00      4671\n",
      "\n",
      "    accuracy                           1.00      8980\n",
      "   macro avg       1.00      1.00      1.00      8980\n",
      "weighted avg       1.00      1.00      1.00      8980\n",
      "\n"
     ]
    },
    {
     "data": {
      "image/png": "[encoded data removed]",
      "text/plain": [
       "<Figure size 640x480 with 2 Axes>"
      ]
     },
     "metadata": {},
     "output_type": "display_data"
    }
   ],
   "source": [
    "# model evaluation for logistic regression\n",
    "acc_sc_log,jac_index_log,f1_sc_log=model_evaluation(gs_cv_log,\"Logistic Regression\")"
   ]
  },
  {
   "cell_type": "code",
   "execution_count": 49,
   "id": "3ef51749",
   "metadata": {},
   "outputs": [
    {
     "name": "stdout",
     "output_type": "stream",
     "text": [
      "Classification Report for Random Forest:\n",
      "              precision    recall  f1-score   support\n",
      "\n",
      "           0       0.98      0.99      0.99      4309\n",
      "           1       0.99      0.99      0.99      4671\n",
      "\n",
      "    accuracy                           0.99      8980\n",
      "   macro avg       0.99      0.99      0.99      8980\n",
      "weighted avg       0.99      0.99      0.99      8980\n",
      "\n"
     ]
    },
    {
     "data": {
      "image/png": "[encoded data removed]",
      "text/plain": [
       "<Figure size 640x480 with 2 Axes>"
      ]
     },
     "metadata": {},
     "output_type": "display_data"
    }
   ],
   "source": [
    "# model evaluation for Random forest\n",
    "acc_sc_ran,jac_index_ran,f1_sc_ran=model_evaluation(gs_cv_ran,\"Random Forest\")"
   ]
  },
  {
   "cell_type": "code",
   "execution_count": 50,
   "id": "576ba16c",
   "metadata": {},
   "outputs": [
    {
     "name": "stdout",
     "output_type": "stream",
     "text": [
      "Classification Report for Decision Tree:\n",
      "              precision    recall  f1-score   support\n",
      "\n",
      "           0       1.00      0.99      0.99      4309\n",
      "           1       0.99      1.00      1.00      4671\n",
      "\n",
      "    accuracy                           0.99      8980\n",
      "   macro avg       1.00      0.99      0.99      8980\n",
      "weighted avg       0.99      0.99      0.99      8980\n",
      "\n"
     ]
    },
    {
     "data": {
      "image/png": "[encoded data removed]",
      "text/plain": [
       "<Figure size 640x480 with 2 Axes>"
      ]
     },
     "metadata": {},
     "output_type": "display_data"
    }
   ],
   "source": [
    "# model evaluation for decision tree\n",
    "acc_sc_dt,jac_index_dt,f1_sc_dt=model_evaluation(gs_cv_dt,\"Decision Tree\")"
   ]
  },
  {
   "cell_type": "code",
   "execution_count": 51,
   "id": "ce85e871",
   "metadata": {},
   "outputs": [
    {
     "name": "stdout",
     "output_type": "stream",
     "text": [
      "Classification Report for Gradient Boosting:\n",
      "              precision    recall  f1-score   support\n",
      "\n",
      "           0       0.99      1.00      1.00      4309\n",
      "           1       1.00      0.99      1.00      4671\n",
      "\n",
      "    accuracy                           1.00      8980\n",
      "   macro avg       1.00      1.00      1.00      8980\n",
      "weighted avg       1.00      1.00      1.00      8980\n",
      "\n"
     ]
    },
    {
     "data": {
      "image/png": "[encoded data removed]",
      "text/plain": [
       "<Figure size 640x480 with 2 Axes>"
      ]
     },
     "metadata": {},
     "output_type": "display_data"
    }
   ],
   "source": [
    "# model evaluation for gradient boosting\n",
    "acc_sc_gb,jac_index_gb,f1_sc_gb=model_evaluation(gs_cv_gb,\"Gradient Boosting\")"
   ]
  },
  {
   "cell_type": "code",
   "execution_count": 52,
   "id": "099dc453",
   "metadata": {},
   "outputs": [
    {
     "data": {
      "text/html": [
       "<div>\n",
       "<style scoped>\n",
       "    .dataframe tbody tr th:only-of-type {\n",
       "        vertical-align: middle;\n",
       "    }\n",
       "\n",
       "    .dataframe tbody tr th {\n",
       "        vertical-align: top;\n",
       "    }\n",
       "\n",
       "    .dataframe thead th {\n",
       "        text-align: right;\n",
       "    }\n",
       "</style>\n",
       "<table border=\"1\" class=\"dataframe\">\n",
       "  <thead>\n",
       "    <tr style=\"text-align: right;\">\n",
       "      <th></th>\n",
       "      <th>models</th>\n",
       "      <th>Accuracy score</th>\n",
       "      <th>Jaccard Index</th>\n",
       "      <th>f1-score</th>\n",
       "    </tr>\n",
       "  </thead>\n",
       "  <tbody>\n",
       "    <tr>\n",
       "      <th>0</th>\n",
       "      <td>logistic regression</td>\n",
       "      <td>1.00</td>\n",
       "      <td>0.99</td>\n",
       "      <td>1.00</td>\n",
       "    </tr>\n",
       "    <tr>\n",
       "      <th>1</th>\n",
       "      <td>Random forest</td>\n",
       "      <td>0.99</td>\n",
       "      <td>0.98</td>\n",
       "      <td>0.99</td>\n",
       "    </tr>\n",
       "    <tr>\n",
       "      <th>2</th>\n",
       "      <td>Decision Tree</td>\n",
       "      <td>0.99</td>\n",
       "      <td>0.99</td>\n",
       "      <td>1.00</td>\n",
       "    </tr>\n",
       "    <tr>\n",
       "      <th>3</th>\n",
       "      <td>Gradient boosting</td>\n",
       "      <td>1.00</td>\n",
       "      <td>0.99</td>\n",
       "      <td>1.00</td>\n",
       "    </tr>\n",
       "  </tbody>\n",
       "</table>\n",
       "</div>"
      ],
      "text/plain": [
       "                models Accuracy score Jaccard Index f1-score\n",
       "0  logistic regression           1.00          0.99     1.00\n",
       "1        Random forest           0.99          0.98     0.99\n",
       "2        Decision Tree           0.99          0.99     1.00\n",
       "3    Gradient boosting           1.00          0.99     1.00"
      ]
     },
     "execution_count": 52,
     "metadata": {},
     "output_type": "execute_result"
    }
   ],
   "source": [
    "Report=pd.DataFrame({\n",
    "    \"models\":[\"logistic regression\",\"Random forest\",\"Decision Tree\",\"Gradient boosting\"],\n",
    "    \"Accuracy score\":[acc_sc_log,acc_sc_ran,acc_sc_dt,acc_sc_gb],\n",
    "    \"Jaccard Index\":[jac_index_log,jac_index_ran,jac_index_dt,jac_index_gb],\n",
    "    \"f1-score\":[f1_sc_log,f1_sc_ran,f1_sc_dt,f1_sc_gb]\n",
    "})\n",
    "Report"
   ]
  },
  {
   "cell_type": "markdown",
   "id": "8ca92c8e",
   "metadata": {},
   "source": [
    "# Comparing the performances"
   ]
  },
  {
   "cell_type": "markdown",
   "id": "4be5f7a3",
   "metadata": {},
   "source": [
    "We can see logistic regression and Random forest work better when I do hyperparameter tuning. But for the case of Decision Tree and Gradient boosting, the results are same.\n",
    "\n",
    "Among all these models, Decision tree works very well. Gradient boosting also very good.Logistic regression and Random forest relatively a little bad than the two mentioned models."
   ]
  }
 ],
 "metadata": {
  "kernelspec": {
   "display_name": "Python 3 (ipykernel)",
   "language": "python",
   "name": "python3"
  },
  "language_info": {
   "codemirror_mode": {
    "name": "ipython",
    "version": 3
   },
   "file_extension": ".py",
   "mimetype": "text/x-python",
   "name": "python",
   "nbconvert_exporter": "python",
   "pygments_lexer": "ipython3",
   "version": "3.11.5"
  }
 },
 "nbformat": 4,
 "nbformat_minor": 5
}
